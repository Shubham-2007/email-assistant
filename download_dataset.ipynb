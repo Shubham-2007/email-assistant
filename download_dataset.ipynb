{
 "cells": [
  {
   "cell_type": "code",
   "execution_count": 1,
   "metadata": {
    "colab": {
     "base_uri": "https://localhost:8080/"
    },
    "id": "znt15cAAmhNy",
    "outputId": "530b7041-338d-4a01-b207-6085603f98d9"
   },
   "outputs": [
    {
     "name": "stdout",
     "output_type": "stream",
     "text": [
      "Downloading the Enron dataset...\n",
      "Download complete!\n",
      "Extracting the dataset...\n"
     ]
    },
    {
     "name": "stderr",
     "output_type": "stream",
     "text": [
      "/var/folders/p1/yb6ttb_x4656f6p4hvh2zfc40000gn/T/ipykernel_13160/1140969103.py:26: DeprecationWarning: Python 3.14 will, by default, filter extracted tar archives and reject files or modify their metadata. Use the filter argument to control this behavior.\n",
      "  tar.extractall(path=extract_to)\n"
     ]
    },
    {
     "name": "stdout",
     "output_type": "stream",
     "text": [
      "Extraction complete! Files are saved in 'enron_dataset'\n"
     ]
    }
   ],
   "source": [
    "import os\n",
    "import tarfile\n",
    "import urllib.request\n",
    "import warnings\n",
    "warnings.filterwarnings('ignore')\n",
    "# URL of the Enron dataset\n",
    "ENRON_URL = \"https://www.cs.cmu.edu/~enron/enron_mail_20150507.tar.gz\"\n",
    "DATA_DIR = \"enron_dataset\"\n",
    "ARCHIVE_NAME = \"enron_mail_20150507.tar.gz\"\n",
    "\n",
    "#Download the Enron dataset from the given URL.\n",
    "def download_enron_dataset(url, save_path):\n",
    "    if not os.path.exists(save_path):\n",
    "        print(\"Downloading the Enron dataset...\")\n",
    "        urllib.request.urlretrieve(url, save_path)\n",
    "        print(\"Download complete!\")\n",
    "    else:\n",
    "        print(\"Dataset archive already exists, skipping download.\")\n",
    "\n",
    "#Extract the Enron dataset.\n",
    "def extract_enron_dataset(archive_path, extract_to):\n",
    "\n",
    "    if not os.path.exists(extract_to):\n",
    "        os.makedirs(extract_to)\n",
    "\n",
    "    print(\"Extracting the dataset...\")\n",
    "    with tarfile.open(archive_path, \"r:gz\") as tar:\n",
    "        tar.extractall(path=extract_to)\n",
    "    print(f\"Extraction complete! Files are saved in '{extract_to}'\")\n",
    "\n",
    "if __name__ == \"__main__\":\n",
    "    # Step 1: Download dataset\n",
    "    download_enron_dataset(ENRON_URL, ARCHIVE_NAME)\n",
    "\n",
    "    # Step 2: Extract dataset\n",
    "    extract_enron_dataset(ARCHIVE_NAME, DATA_DIR)\n"
   ]
  },
  {
   "cell_type": "code",
   "execution_count": null,
   "metadata": {
    "id": "Gaav_aaFmi9p"
   },
   "outputs": [],
   "source": []
  }
 ],
 "metadata": {
  "colab": {
   "provenance": []
  },
  "kernelspec": {
   "display_name": "Python 3 (ipykernel)",
   "language": "python",
   "name": "python3"
  },
  "language_info": {
   "codemirror_mode": {
    "name": "ipython",
    "version": 3
   },
   "file_extension": ".py",
   "mimetype": "text/x-python",
   "name": "python",
   "nbconvert_exporter": "python",
   "pygments_lexer": "ipython3",
   "version": "3.12.4"
  }
 },
 "nbformat": 4,
 "nbformat_minor": 4
}
